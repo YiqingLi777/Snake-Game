{
 "cells": [
  {
   "cell_type": "code",
   "execution_count": 45,
   "metadata": {},
   "outputs": [],
   "source": [
    "# imports \n",
    "import turtle \n",
    "import time \n",
    "import random"
   ]
  },
  {
   "cell_type": "code",
   "execution_count": 46,
   "metadata": {},
   "outputs": [],
   "source": [
    "delay = 0.1\n",
    "# it reprents the speed of movement of snake here"
   ]
  },
  {
   "cell_type": "code",
   "execution_count": 47,
   "metadata": {},
   "outputs": [],
   "source": [
    "# scores \n",
    "score = 0\n",
    "high_score = 0"
   ]
  },
  {
   "cell_type": "code",
   "execution_count": 48,
   "metadata": {},
   "outputs": [],
   "source": [
    "# setup screen \n",
    "wn = turtle.Screen()\n",
    "wn.title(\"My first Snake Game\")\n",
    "wn.bgcolor('white')\n",
    "wn.setup(width=600, height=600)\n",
    "wn.tracer(0)\n",
    "# When automatic updates are off, you need to explicitly call update() when you want the screen to reflect the current state of the drawing."
   ]
  },
  {
   "cell_type": "code",
   "execution_count": 49,
   "metadata": {},
   "outputs": [],
   "source": [
    "# snake head\n",
    "head = turtle.Turtle()\n",
    "head.speed(0) # turn off animation and go as fast as possible.\n",
    "head.shape(\"square\")\n",
    "head.color(\"black\")\n",
    "head.penup()\n",
    "head.goto(0,0)\n",
    "head.direction = 'stop'"
   ]
  },
  {
   "cell_type": "code",
   "execution_count": 50,
   "metadata": {},
   "outputs": [],
   "source": [
    "# snake food \n",
    "food = turtle.Turtle()\n",
    "food.speed(0)\n",
    "food.shape('square')\n",
    "food.color('red')\n",
    "food.penup()\n",
    "food.goto(0,100)"
   ]
  },
  {
   "cell_type": "code",
   "execution_count": 51,
   "metadata": {},
   "outputs": [],
   "source": [
    "segments = []"
   ]
  },
  {
   "cell_type": "code",
   "execution_count": 52,
   "metadata": {},
   "outputs": [],
   "source": [
    "# score board\n",
    "sc = turtle.Turtle()\n",
    "sc.speed(0)\n",
    "sc.shape('square')\n",
    "sc.color('black')\n",
    "sc.penup()\n",
    "sc.hideturtle()\n",
    "sc.goto(0,260)\n",
    "sc.write('score: 0  High Score: 0', align = \"center\", font=('ds-digital', 24, 'normal'))"
   ]
  },
  {
   "cell_type": "code",
   "execution_count": 53,
   "metadata": {},
   "outputs": [],
   "source": [
    "# functions: how the snake moves\n",
    "#  .ycor() : return the turtle's y coordinate of the current position of turtle.\n",
    "def go_up():\n",
    "    if head.direction != 'down':\n",
    "        head.direction = 'up' \n",
    "\n",
    "def go_down():\n",
    "    if head.direction != 'up':\n",
    "        head.direction = 'down'\n",
    "\n",
    "def go_left():\n",
    "    if head.direction != 'right':\n",
    "        head.direction = 'left'\n",
    "\n",
    "def go_right():\n",
    "    if head.direction != 'left':\n",
    "        head.direction = 'right'\n",
    "\n",
    "def move():\n",
    "    if head.direction == 'up':\n",
    "        y = head.ycor()\n",
    "        head.sety(y+20)\n",
    "    if head.direction == 'down':\n",
    "        y = head.ycor()\n",
    "        head.sety(y-20)\n",
    "    if head.direction == 'left':\n",
    "        x = head.xcor()\n",
    "        head.setx(x-20)\n",
    "    if head.direction == 'right':\n",
    "        x = head.xcor()\n",
    "        head.setx(x+20)"
   ]
  },
  {
   "cell_type": "code",
   "execution_count": 54,
   "metadata": {},
   "outputs": [],
   "source": [
    "# keyborad bindings\n",
    "wn.listen()\n",
    "wn.onkeypress(go_up, 'w')\n",
    "wn.onkeypress(go_down, 's')\n",
    "wn.onkeypress(go_left, 'a')\n",
    "wn.onkeypress(go_right, 'd')"
   ]
  },
  {
   "cell_type": "code",
   "execution_count": null,
   "metadata": {},
   "outputs": [],
   "source": [
    "# main loop\n",
    "while True:\n",
    "    wn.update()\n",
    "\n",
    "    # check collisions with boarder area\n",
    "    if head.xcor() > 290 or head.xcor() < -290 or head.ycor() > 290 or head.ycor() < -290:\n",
    "        time.sleep(1) # add delay in the execution of a program\n",
    "        head.goto(0,0)\n",
    "        head.direction = 'stop'\n",
    "\n",
    "        # hide the segments of body\n",
    "        for segment in segments:\n",
    "            segment.goto(1000,1000) # out of range\n",
    "            \n",
    "        # clear the segments\n",
    "        segments.clear()\n",
    "\n",
    "        # reset score\n",
    "        score = 0\n",
    "\n",
    "        # reset delay.  halts for a specified time 暂停指定时间\n",
    "        delay = 0.1\n",
    "\n",
    "        sc.clear()\n",
    "        sc.write(\"Score: {}  High Score: {}\".format(score, high_score), align = \"center\", font=('ds-digital', 24, 'normal'))\n",
    "\n",
    "    # check the collision with food\n",
    "    if head.distance(food) < 20:\n",
    "        # move the food to random place\n",
    "        x = random.randint(-290,290)\n",
    "        y = random.randint(-290,290)\n",
    "        food.goto(x,y)\n",
    "\n",
    "        # add a new segment to the head\n",
    "        new_segment = turtle.Turtle()\n",
    "        new_segment.speed(0)\n",
    "        new_segment.shape('square')\n",
    "        new_segment.color('black')\n",
    "        new_segment.penup()\n",
    "        segments.append(new_segment)\n",
    "\n",
    "        # shorten the delay\n",
    "        delay -= 0.001\n",
    "        # increase the score\n",
    "        score += 10\n",
    "\n",
    "        if score > high_score:\n",
    "            high_score = score\n",
    "        sc.clear()\n",
    "        sc.write(\"Score: {}  High Score: {}\".format(score, high_score), align = \"center\", font=('ds-digital', 24, 'normal'))\n",
    "\n",
    "    # move the segments in reverse order: the snake body moves following the the front body\n",
    "    for index in range(len(segments)-1, 0, -1):\n",
    "        x = segments[index-1].xcor()\n",
    "        y = segments[index-1].ycor()\n",
    "        segments[index].goto(x,y)\n",
    "\n",
    "    # move segment 0 to head\n",
    "    if len(segments) > 0 :\n",
    "        x = head.xcor()\n",
    "        y = head.ycor()\n",
    "        segments[0].goto(x,y)\n",
    "\n",
    "    move()\n",
    "\n",
    "    # check collision with body\n",
    "    for segment in segments:\n",
    "        if segment.distance(head) < 20:\n",
    "            time.sleep(1)\n",
    "            head.goto(0,0)\n",
    "            head.direction = 'stop'\n",
    "        \n",
    "            # hide segements; reset everything\n",
    "            for segment in segments:\n",
    "                segment.goto(1000,1000)\n",
    "            segments.clear()\n",
    "            score = 0\n",
    "            delay = 0.1\n",
    "\n",
    "            # update the score\n",
    "            sc.clear()\n",
    "            sc.write(\"Score: {}  High Score: {}\".format(score, high_score), align = \"center\", font=('ds-digital', 24, 'normal'))\n",
    "\n",
    "\n",
    "    time.sleep(delay)"
   ]
  },
  {
   "cell_type": "code",
   "execution_count": null,
   "metadata": {},
   "outputs": [],
   "source": [
    "wn.mainloop()"
   ]
  }
 ],
 "metadata": {
  "kernelspec": {
   "display_name": "Python 3",
   "language": "python",
   "name": "python3"
  },
  "language_info": {
   "codemirror_mode": {
    "name": "ipython",
    "version": 3
   },
   "file_extension": ".py",
   "mimetype": "text/x-python",
   "name": "python",
   "nbconvert_exporter": "python",
   "pygments_lexer": "ipython3",
   "version": "3.9.6"
  },
  "orig_nbformat": 4,
  "vscode": {
   "interpreter": {
    "hash": "c8b648499af6da3c940fdf0631c7f21a1526b934228411a9560dd0f23db961b4"
   }
  }
 },
 "nbformat": 4,
 "nbformat_minor": 2
}
